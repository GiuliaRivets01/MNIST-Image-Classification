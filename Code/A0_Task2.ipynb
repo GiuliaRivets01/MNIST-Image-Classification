{
  "nbformat": 4,
  "nbformat_minor": 0,
  "metadata": {
    "colab": {
      "provenance": []
    },
    "kernelspec": {
      "name": "python3",
      "display_name": "Python 3"
    },
    "language_info": {
      "name": "python"
    }
  },
  "cells": [
    {
      "cell_type": "markdown",
      "source": [
        "Task 2 Code \\\n",
        "\n",
        "Authors: Chloé Tap, Evan Meltz, Giulia Rivetti\n",
        "\n",
        "Group 36"
      ],
      "metadata": {
        "id": "gA0tOncayinD"
      }
    },
    {
      "cell_type": "code",
      "source": [
        "import numpy as np"
      ],
      "metadata": {
        "id": "jPPckVn_ARsy"
      },
      "execution_count": null,
      "outputs": []
    },
    {
      "cell_type": "code",
      "source": [
        "def predict(X, W):\n",
        "    # Calculate the Dot Product of Train and weight matrix.\n",
        "    act_scores = X.dot(W)\n",
        "    # Use argmax to Find the class with the highest activation.\n",
        "    predicted_classes = np.argmax(act_scores, axis=1)\n",
        "    return predicted_classes\n",
        "\n",
        "def evaluate_accuracy(y_true, y_pred):\n",
        "    # Calculate the average accuracy by comparing the predicted outcome labels and the true labels.\n",
        "    accuracy = np.mean(y_true == y_pred)\n",
        "    return accuracy"
      ],
      "metadata": {
        "id": "YE6nRbVD4cYd"
      },
      "execution_count": null,
      "outputs": []
    },
    {
      "cell_type": "code",
      "source": [
        "def train_perceptron(X_train, y_train, learning_rate, num_epochs):\n",
        "    #Taking the number of rows and columns from Training Input Matrix\n",
        "    num_samples, num_features = X_train.shape\n",
        "    #Setting the amount of output nodes\n",
        "    num_classes = y_train.shape[1]\n",
        "    # Initialising Weight Matrix W with set of random values.\n",
        "    W = np.random.randn(num_features, num_classes)\n",
        "    #Nested For Loop which will calculate gradient and then update the relevant weights\n",
        "    for epoch in range(num_epochs):\n",
        "        for i in range(num_samples):\n",
        "            # Calculate predicted activation scores for each class.\n",
        "            act_scores = X_train[i].dot(W)\n",
        "\n",
        "            # Find the class with the highest activation score.\n",
        "            predicted_class = np.argmax(act_scores)\n",
        "\n",
        "            # Updating the weights using gradient descent\n",
        "            if y_train[i, predicted_class] != 1:\n",
        "                W[:, predicted_class] -= learning_rate * X_train[i]\n",
        "                W[:, np.argmax(y_train[i])] += learning_rate * X_train[i]\n",
        "\n",
        "    return W"
      ],
      "metadata": {
        "id": "FDd5UC7dEUEL"
      },
      "execution_count": null,
      "outputs": []
    },
    {
      "cell_type": "code",
      "source": [
        "#Converts Digit class labels (0-9) into form where 1 represents the digit and zero for all other classes\n",
        "def one_hot_encode_labels(y, num_classes):\n",
        "    # Convert target labels to one-hot encoding.\n",
        "    one_hot = np.zeros((len(y), num_classes))\n",
        "    one_hot[np.arange(len(y)), y.astype(int)] = 1\n",
        "    return one_hot\n"
      ],
      "metadata": {
        "id": "VgYHYTyPLRJP"
      },
      "execution_count": null,
      "outputs": []
    },
    {
      "cell_type": "code",
      "source": [
        "# Load input and output from CSV files.\n",
        "X_train = np.loadtxt(\"train_in.csv\", delimiter=',')\n",
        "y_train = np.loadtxt(\"train_out.csv\", delimiter=',')\n",
        "\n",
        "X_test = np.loadtxt(\"test_in.csv\", delimiter=',')\n",
        "y_test = np.loadtxt(\"test_out.csv\", delimiter=',')\n",
        "\n",
        "# Appending a column of Ones (Bias) to the input data.\n",
        "X_train = np.hstack((X_train, np.ones((X_train.shape[0], 1))))\n",
        "X_test = np.hstack((X_test, np.ones((X_test.shape[0], 1))))\n",
        "\n",
        "#Initialising relevant variables\n",
        "\n",
        "learning_rate = 0.1\n",
        "#One for each digit class\n",
        "num_classes = 10\n",
        "num_epochs = 100\n",
        "\n",
        "# One-hot encode target labels.\n",
        "y_train_encoded = one_hot_encode_labels(y_train, num_classes)\n",
        "#print(y_train_encoded)\n",
        "# Calling the train_perceptron function to train the model and return the updated weights.\n",
        "W = train_perceptron(X_train, y_train_encoded, learning_rate, num_epochs)\n",
        "\n",
        "# Calling predict function to get predicted output values on train and test data\n",
        "train_predictions = predict(X_train, W)\n",
        "test_predictions = predict(X_test, W)\n",
        "\n",
        "# Calling evaluating accuracy method defined above and testing with both train and test data.\n",
        "train_accuracy = evaluate_accuracy(np.argmax(y_train_encoded, axis=1), train_predictions)\n",
        "test_accuracy = evaluate_accuracy(y_test, test_predictions)"
      ],
      "metadata": {
        "id": "kXoBqZbj-Msm"
      },
      "execution_count": null,
      "outputs": []
    },
    {
      "cell_type": "code",
      "source": [
        "print(\"Train Accuracy:\", train_accuracy)\n",
        "print(\"Test Accuracy:\", test_accuracy)"
      ],
      "metadata": {
        "colab": {
          "base_uri": "https://localhost:8080/"
        },
        "id": "TKTi-uX1AaPR",
        "outputId": "7735d456-4799-4f41-e24c-6352f2f4ccb0"
      },
      "execution_count": null,
      "outputs": [
        {
          "output_type": "stream",
          "name": "stdout",
          "text": [
            "Train Accuracy: 1.0\n",
            "Test Accuracy: 0.874\n"
          ]
        }
      ]
    },
    {
      "cell_type": "markdown",
      "source": [
        "Accuracy of training the data will reach 100% efficiency. Whereas the  accuracy of testing the model against train data and new \"unseen\" test data, once its been trained, gets to the high 80s\n"
      ],
      "metadata": {
        "id": "ja76ewiCAitZ"
      }
    }
  ]
}